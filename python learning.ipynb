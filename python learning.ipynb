{
 "cells": [
  {
   "cell_type": "code",
   "execution_count": 1,
   "id": "6ca4a9de-f044-4224-9f32-d04b72776c7f",
   "metadata": {},
   "outputs": [
    {
     "name": "stdout",
     "output_type": "stream",
     "text": [
      "3\n"
     ]
    }
   ],
   "source": [
    "a=1\n",
    "b=2\n",
    "print(a+b)"
   ]
  },
  {
   "cell_type": "code",
   "execution_count": 4,
   "id": "aa160a2f-5db4-4648-b0ec-993675bb5bb3",
   "metadata": {},
   "outputs": [
    {
     "name": "stdout",
     "output_type": "stream",
     "text": [
      "250\n",
      "250\n"
     ]
    }
   ],
   "source": [
    "a=250\n",
    "print(a)\n",
    "b=a\n",
    "print(b)"
   ]
  },
  {
   "cell_type": "code",
   "execution_count": 5,
   "id": "edc59f56-27d6-4767-a9e4-4549ef5183a2",
   "metadata": {},
   "outputs": [
    {
     "name": "stdout",
     "output_type": "stream",
     "text": [
      "150\n",
      "150\n",
      "150\n"
     ]
    }
   ],
   "source": [
    "### multi value assign\n",
    "a=v=g=150\n",
    "print(a)\n",
    "print(v)\n",
    "print(g)"
   ]
  },
  {
   "cell_type": "code",
   "execution_count": 6,
   "id": "3277d204-dc82-4bbc-950b-975cb5f7dac5",
   "metadata": {},
   "outputs": [
    {
     "name": "stdout",
     "output_type": "stream",
     "text": [
      "1\n",
      "2\n",
      "3\n"
     ]
    }
   ],
   "source": [
    "a,b,c=1,2,3\n",
    "print(a)\n",
    "print(b)\n",
    "print(c)"
   ]
  },
  {
   "cell_type": "code",
   "execution_count": 8,
   "id": "c35e1f8b-1d37-481e-af69-f6879f2bd719",
   "metadata": {},
   "outputs": [
    {
     "name": "stdout",
     "output_type": "stream",
     "text": [
      "<class 'int'>\n",
      "<class 'float'>\n",
      "<class 'str'>\n"
     ]
    }
   ],
   "source": [
    "### how to see data type\n",
    "a=5\n",
    "b=7.5\n",
    "c='lokesh'\n",
    "print(type(a))\n",
    "print(type(b))\n",
    "print(type(c))"
   ]
  },
  {
   "cell_type": "code",
   "execution_count": 13,
   "id": "7b0bc634-8053-4f70-ab2d-7c1b5cfd43e6",
   "metadata": {},
   "outputs": [
    {
     "name": "stdout",
     "output_type": "stream",
     "text": [
      "6\n"
     ]
    },
    {
     "ename": "NameError",
     "evalue": "name 'z' is not defined",
     "output_type": "error",
     "traceback": [
      "\u001b[1;31m---------------------------------------------------------------------------\u001b[0m",
      "\u001b[1;31mNameError\u001b[0m                                 Traceback (most recent call last)",
      "Cell \u001b[1;32mIn[13], line 5\u001b[0m\n\u001b[0;32m      3\u001b[0m \u001b[38;5;28mprint\u001b[39m(z)\n\u001b[0;32m      4\u001b[0m \u001b[38;5;28;01mdel\u001b[39;00m z\n\u001b[1;32m----> 5\u001b[0m \u001b[38;5;28mprint\u001b[39m(\u001b[43mz\u001b[49m)\n",
      "\u001b[1;31mNameError\u001b[0m: name 'z' is not defined"
     ]
    }
   ],
   "source": [
    "### delete value 'del' is the keyword\n",
    "z=6\n",
    "print(z)\n",
    "del z\n",
    "print(z)"
   ]
  },
  {
   "cell_type": "code",
   "execution_count": 23,
   "id": "4dd6d7ab-9284-4450-a57d-564076609c58",
   "metadata": {},
   "outputs": [
    {
     "name": "stdout",
     "output_type": "stream",
     "text": [
      "['False', 'None', 'True', 'and', 'as', 'assert', 'async', 'await', 'break', 'class', 'continue', 'def', 'del', 'elif', 'else', 'except', 'finally', 'for', 'from', 'global', 'if', 'import', 'in', 'is', 'lambda', 'nonlocal', 'not', 'or', 'pass', 'raise', 'return', 'try', 'while', 'with', 'yield']\n"
     ]
    }
   ],
   "source": [
    "### how to see keywords in python\n",
    "import keyword\n",
    "KEYWORD=keyword.kwlist\n",
    "print(KEYWORD)\n",
    "\n"
   ]
  },
  {
   "cell_type": "code",
   "execution_count": 24,
   "id": "fc254607-32a1-476f-befd-f9c71e55cc5d",
   "metadata": {},
   "outputs": [
    {
     "name": "stdout",
     "output_type": "stream",
     "text": [
      "5 6 8\n"
     ]
    }
   ],
   "source": [
    "### printing multiple variables\n",
    "a=5\n",
    "d=6\n",
    "k=8\n",
    "print(a,d,k)"
   ]
  },
  {
   "cell_type": "code",
   "execution_count": 10,
   "id": "ee8740ed-1bdb-414d-9515-f7bd859d5475",
   "metadata": {},
   "outputs": [
    {
     "name": "stdout",
     "output_type": "stream",
     "text": [
      "the type of a <class 'int'>\n",
      "the type of b <class 'float'>\n",
      "the type of c <class 'complex'>\n",
      "c is a complexnumber True\n"
     ]
    }
   ],
   "source": [
    "### isinstance  keyword\n",
    "a=5\n",
    "print(\"the type of a\",type(a))\n",
    "b=40.5\n",
    "print(\"the type of b\",type(b))\n",
    "c=1+3j\n",
    "print(\"the type of c\",type(c))\n",
    "print(\"c is a complexnumber\",isinstance(1+3j,complex))"
   ]
  },
  {
   "cell_type": "code",
   "execution_count": 9,
   "id": "393c66ab-78aa-4aec-8063-e39ef1c70cd8",
   "metadata": {},
   "outputs": [
    {
     "name": "stdout",
     "output_type": "stream",
     "text": [
      "False\n",
      "True\n",
      "False\n"
     ]
    }
   ],
   "source": [
    "### is keyword\n",
    "a=5\n",
    "b=5\n",
    "f='lokesh'\n",
    "l='lokesh'\n",
    "m=[1,2,3,5]\n",
    "n=[1,25,3,5]\n",
    "print(a is not b)\n",
    "print(f is l)\n",
    "print(m is n)\n"
   ]
  },
  {
   "cell_type": "markdown",
   "id": "305b718a-a70c-4329-953c-2439f7917719",
   "metadata": {},
   "source": [
    "### python comment"
   ]
  },
  {
   "cell_type": "code",
   "execution_count": 15,
   "id": "607c34cb-5272-482e-8ba4-bf6d2e990776",
   "metadata": {},
   "outputs": [
    {
     "data": {
      "text/plain": [
       "\" multi-line comments\\n   - triple quotes is used for multi-line comments\\n   -'''hai welcome to python\\n   -it is free and open source language\""
      ]
     },
     "execution_count": 15,
     "metadata": {},
     "output_type": "execute_result"
    }
   ],
   "source": [
    "# single-line comments\n",
    "  #this code is to show an example of a single line comment\n",
    "  #print('this statement does not have ahashtag before it')\n",
    "\"\"\" multi-line comments\n",
    "   - triple quotes is used for multi-line comments\n",
    "   -'''hai welcome to python\n",
    "   -it is free and open source language\"\"\""
   ]
  },
  {
   "cell_type": "code",
   "execution_count": 19,
   "id": "62cb7112-4be6-45f3-9faf-9f6fee922024",
   "metadata": {},
   "outputs": [],
   "source": [
    "        ### python  operators\n",
    "# the opertor can be defined as a symbol which is responsible for a particular operation between two operands.\n",
    "# operators are the pillars of a program on which the logic is built in a specific programming language\n",
    "  # -Arithmetic operators\n",
    "  # -Comparison operators\n",
    "  # -Assignment operators\n",
    "  # -Logical operators\n",
    "  # -Bitwise operators\n",
    "  # -Membership operators\n",
    "  # -identity operators"
   ]
  },
  {
   "cell_type": "code",
   "execution_count": null,
   "id": "3286205f-ac77-4246-a311-64b41a31f02e",
   "metadata": {},
   "outputs": [],
   "source": []
  }
 ],
 "metadata": {
  "kernelspec": {
   "display_name": "Python 3 (ipykernel)",
   "language": "python",
   "name": "python3"
  },
  "language_info": {
   "codemirror_mode": {
    "name": "ipython",
    "version": 3
   },
   "file_extension": ".py",
   "mimetype": "text/x-python",
   "name": "python",
   "nbconvert_exporter": "python",
   "pygments_lexer": "ipython3",
   "version": "3.12.2"
  }
 },
 "nbformat": 4,
 "nbformat_minor": 5
}
